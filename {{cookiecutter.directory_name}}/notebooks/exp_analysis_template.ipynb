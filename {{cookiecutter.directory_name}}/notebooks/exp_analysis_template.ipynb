{
 "cells": [
  {
   "attachments": {},
   "cell_type": "markdown",
   "id": "fe3ffec3-29dc-4eef-928e-5d9cb26e2413",
   "metadata": {},
   "source": [
    "# Template Exploratory Data Analysis"
   ]
  },
  {
   "attachments": {},
   "cell_type": "markdown",
   "id": "79dd2b62-9ec0-4def-9a7b-49be1fe6f1e3",
   "metadata": {},
   "source": [
    "## Importing libs"
   ]
  },
  {
   "cell_type": "code",
   "execution_count": null,
   "id": "78965303-3790-4124-bbad-57bd1b8a3be5",
   "metadata": {},
   "outputs": [],
   "source": [
    "# Data\n",
    "import pandas as pd\n",
    "\n",
    "# Export\n",
    "import pickle\n",
    "\n",
    "# Plot\n",
    "import matplotlib.pyplot as plt\n",
    "import seaborn as sns\n",
    "import missingno as msno\n",
    "\n",
    "# Modeling\n",
    "from lightgbm import LGBMClassifier\n",
    "from sklearn.metrics import classification_report, confusion_matrix\n",
    "from sklearn.model_selection import train_test_split\n",
    "from sklearn.compose import make_column_transformer\n",
    "from sklearn.preprocessing import OneHotEncoder"
   ]
  },
  {
   "attachments": {},
   "cell_type": "markdown",
   "id": "9631ee53-5ef3-4982-a83e-27d89e72cf4a",
   "metadata": {},
   "source": [
    "## Loading data"
   ]
  },
  {
   "cell_type": "code",
   "execution_count": null,
   "id": "b612f493-0a50-4f9b-b933-cc0b9a6f07a2",
   "metadata": {},
   "outputs": [],
   "source": [
    "df = pd.read_csv(\"DATA_FILE_NAME.csv\")\n",
    "df.sample(3)"
   ]
  },
  {
   "attachments": {},
   "cell_type": "markdown",
   "id": "beec0efd-ff8f-43a0-a911-e6456e51696f",
   "metadata": {},
   "source": [
    "# Check data"
   ]
  },
  {
   "cell_type": "code",
   "execution_count": null,
   "id": "dacc5915-fac5-43bb-88eb-370e84c9ee70",
   "metadata": {},
   "outputs": [],
   "source": [
    "print(\"Shape\")\n",
    "print(df.shape)\n",
    "\n",
    "print(\"\\nTypes\")\n",
    "print(df.dtypes)"
   ]
  },
  {
   "attachments": {},
   "cell_type": "markdown",
   "id": "83d3465b-2375-4418-a085-5f4fae43639f",
   "metadata": {},
   "source": [
    "### Check missings"
   ]
  },
  {
   "cell_type": "code",
   "execution_count": null,
   "id": "584f17bb-0fde-4489-8ccf-fdd899ab4fdd",
   "metadata": {},
   "outputs": [],
   "source": [
    "pd.DataFrame(df.isnull().sum()).T"
   ]
  },
  {
   "cell_type": "code",
   "execution_count": null,
   "id": "97fd7430-4459-4487-bbff-0a85d09c9f4b",
   "metadata": {},
   "outputs": [],
   "source": [
    "msno.matrix(df)\n",
    "plt.show()"
   ]
  },
  {
   "cell_type": "code",
   "execution_count": null,
   "id": "3707e234-ed71-40eb-acbe-66cbfc041515",
   "metadata": {},
   "outputs": [],
   "source": [
    "# CHANGE HERE WHAT ARE YOUR DB'S CAT AND NUM COLUMNS\n",
    "cat_cols = [\"job\", \"marital\", \"education\", \"housing\"]\n",
    "num_cols = [\"age\", \"balance\", \"duration\", \"campaign\"]"
   ]
  },
  {
   "cell_type": "code",
   "execution_count": null,
   "id": "46046b39-f65f-41c6-9c6d-d539dc946227",
   "metadata": {},
   "outputs": [],
   "source": [
    "df.describe()"
   ]
  },
  {
   "cell_type": "code",
   "execution_count": null,
   "id": "db0cb5ed-6e92-46d2-a728-5fe1f90310ce",
   "metadata": {},
   "outputs": [],
   "source": [
    "sns.set(style=\"whitegrid\")\n",
    "# CHANGE HERE THE \"job\" AND \"deposit\" METRICS ACCORDING TO YOUR DB\n",
    "g = sns.countplot(data=df, x=\"job\", hue=\"deposit\")\n",
    "g.set_xticklabels(g.get_xticklabels(), rotation=90);"
   ]
  },
  {
   "cell_type": "code",
   "execution_count": null,
   "id": "9cd20b04-677f-4c08-91bd-6fc47f508333",
   "metadata": {},
   "outputs": [],
   "source": [
    "sns.pairplot(df)"
   ]
  },
  {
   "cell_type": "code",
   "execution_count": null,
   "id": "faadef77-8020-491e-8424-39fac564b5b5",
   "metadata": {},
   "outputs": [],
   "source": [
    "def correlation_matrix(df, cols):\n",
    "     fig = plt.gcf()\n",
    "     fig.set_size_inches(8, 6)\n",
    "     plt.xticks(fontsize=10)\n",
    "     plt.yticks(fontsize=10)\n",
    "     fig = sns.heatmap(df[cols].corr(), annot=True, linewidths=0.5, annot_kws={\"size\": 12}, linecolor=\"w\", cmap=\"RdBu\")\n",
    "     plt.show(block=True)\n",
    "\n",
    "correlation_matrix(df, num_cols)"
   ]
  }
 ],
 "metadata": {
  "kernelspec": {
   "display_name": "Python 3 (ipykernel)",
   "language": "python",
   "name": "python3"
  },
  "language_info": {
   "codemirror_mode": {
    "name": "ipython",
    "version": 3
   },
   "file_extension": ".py",
   "mimetype": "text/x-python",
   "name": "python",
   "nbconvert_exporter": "python",
   "pygments_lexer": "ipython3",
   "version": "3.10.12"
  }
 },
 "nbformat": 4,
 "nbformat_minor": 5
}
